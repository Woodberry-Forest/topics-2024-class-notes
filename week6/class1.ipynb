{
 "cells": [
  {
   "cell_type": "markdown",
   "metadata": {},
   "source": [
    "# Class 1\n",
    "1. Mention Thursdays class\n",
    "2. Discussion about scope and lifetime of variables"
   ]
  },
  {
   "cell_type": "code",
   "execution_count": 2,
   "metadata": {},
   "outputs": [
    {
     "name": "stdout",
     "output_type": "stream",
     "text": [
      "20\n",
      "10\n"
     ]
    }
   ],
   "source": [
    "x = 10\n",
    "d = 25\n",
    "\n",
    "def func():\n",
    "    x = 20\n",
    "    y = 15\n",
    "    print(x)\n",
    "    print(d)\n",
    "\n",
    "func()\n",
    "print(x)\n",
    "print(y)"
   ]
  },
  {
   "cell_type": "markdown",
   "metadata": {},
   "source": [
    "We're going to use what we've learned thus far and apply it to real world problems. We'll start with a simple problem and then move on to more complex ones.\n",
    "\n",
    "Let's simulate planets orbiting a star. We'll start with a single planet and then add more planets to the system."
   ]
  },
  {
   "cell_type": "code",
   "execution_count": 11,
   "metadata": {},
   "outputs": [],
   "source": [
    "class Planet():\n",
    "    G = 6.67e-11\n",
    "    M_SUN = 1.989e30\n",
    "    def __init__(self, name, mass, radius, distance, orbital_velocity):\n",
    "        self.name = name\n",
    "        self.mass = mass\n",
    "        self.radius = radius\n",
    "        self.distance = distance\n",
    "        self.orbital_velocity = orbital_velocity\n",
    "        self.time_step = 86400\n",
    "        self.positions = []\n",
    "\n",
    "    \n",
    "    def calculate_position(self):\n",
    "        f_g = G * (self.mass * M_SUN)/(self.distance ** 2)\n",
    "        a = self.orbital_velocity**2 / self.distance\n",
    "\n",
    "    \n",
    "\n"
   ]
  },
  {
   "cell_type": "code",
   "execution_count": 9,
   "metadata": {},
   "outputs": [],
   "source": [
    "earth = Planet(\"Earth\", 5.972e24, 6.371e6, 149.1e9, 29780)"
   ]
  },
  {
   "cell_type": "code",
   "execution_count": 5,
   "metadata": {},
   "outputs": [
    {
     "data": {
      "text/plain": [
       "6371000.0"
      ]
     },
     "execution_count": 5,
     "metadata": {},
     "output_type": "execute_result"
    }
   ],
   "source": [
    "earth.radius"
   ]
  },
  {
   "cell_type": "code",
   "execution_count": 6,
   "metadata": {},
   "outputs": [
    {
     "data": {
      "text/plain": [
       "149100000000.0"
      ]
     },
     "execution_count": 6,
     "metadata": {},
     "output_type": "execute_result"
    }
   ],
   "source": [
    "earth.distance"
   ]
  },
  {
   "cell_type": "code",
   "execution_count": null,
   "metadata": {},
   "outputs": [],
   "source": []
  }
 ],
 "metadata": {
  "kernelspec": {
   "display_name": "Python 3",
   "language": "python",
   "name": "python3"
  },
  "language_info": {
   "codemirror_mode": {
    "name": "ipython",
    "version": 3
   },
   "file_extension": ".py",
   "mimetype": "text/x-python",
   "name": "python",
   "nbconvert_exporter": "python",
   "pygments_lexer": "ipython3",
   "version": "3.11.4"
  }
 },
 "nbformat": 4,
 "nbformat_minor": 2
}
