{
 "cells": [
  {
   "cell_type": "markdown",
   "metadata": {},
   "source": [
    "# Class 3\n",
    "\n",
    "Agenda:\n",
    "1. Pain points\n",
    "3. File I/O\n",
    "2. Recursion\n",
    "3. Queues and Stacks"
   ]
  },
  {
   "cell_type": "code",
   "execution_count": 5,
   "metadata": {},
   "outputs": [
    {
     "name": "stdout",
     "output_type": "stream",
     "text": [
      "['fredevans/2513736', '\"Evans', ' Fred\"', '', '1948', 'Chicago Bears', '3', '10', '3.3', '15', '1.5', '5.0', '0', '--', '--', '--', '--', '--', '--\\n']\n"
     ]
    }
   ],
   "source": [
    "with open(\"./rushing.csv\") as f:\n",
    "    for line in f.readlines()[1:]:\n",
    "        l = line.split(\",\")\n",
    "        print(l)\n",
    "        break"
   ]
  },
  {
   "cell_type": "code",
   "execution_count": null,
   "metadata": {},
   "outputs": [],
   "source": []
  }
 ],
 "metadata": {
  "kernelspec": {
   "display_name": "Python 3",
   "language": "python",
   "name": "python3"
  },
  "language_info": {
   "codemirror_mode": {
    "name": "ipython",
    "version": 3
   },
   "file_extension": ".py",
   "mimetype": "text/x-python",
   "name": "python",
   "nbconvert_exporter": "python",
   "pygments_lexer": "ipython3",
   "version": "3.11.4"
  }
 },
 "nbformat": 4,
 "nbformat_minor": 2
}
