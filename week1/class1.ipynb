{
 "cells": [
  {
   "cell_type": "markdown",
   "metadata": {},
   "source": [
    "# Week 1 Class 1\n",
    "9/9/24\n",
    "\n",
    "Agenda:\n",
    "\n",
    "1. Review from last week\n",
    "2. User Input\n",
    "    - See documentation\n",
    "    - What does the input function return?\n",
    "3. Strings, again\n",
    "4. Conditionals\n",
    "    - if\n",
    "    - else\n",
    "    - elif\n",
    "5. Loops\n",
    "    - for\n",
    "    - while"
   ]
  },
  {
   "cell_type": "code",
   "execution_count": 2,
   "metadata": {},
   "outputs": [],
   "source": [
    "name = \"Mr. Tucker\""
   ]
  },
  {
   "cell_type": "code",
   "execution_count": 3,
   "metadata": {},
   "outputs": [
    {
     "name": "stdout",
     "output_type": "stream",
     "text": [
      "Mr. Tucker\n"
     ]
    }
   ],
   "source": [
    "print(name)"
   ]
  },
  {
   "cell_type": "code",
   "execution_count": 4,
   "metadata": {},
   "outputs": [
    {
     "data": {
      "text/plain": [
       "'MR. TUCKER'"
      ]
     },
     "execution_count": 4,
     "metadata": {},
     "output_type": "execute_result"
    }
   ],
   "source": [
    "name.upper()"
   ]
  },
  {
   "cell_type": "code",
   "execution_count": 5,
   "metadata": {},
   "outputs": [
    {
     "ename": "NameError",
     "evalue": "name 'upper' is not defined",
     "output_type": "error",
     "traceback": [
      "\u001b[0;31m---------------------------------------------------------------------------\u001b[0m",
      "\u001b[0;31mNameError\u001b[0m                                 Traceback (most recent call last)",
      "Cell \u001b[0;32mIn[5], line 1\u001b[0m\n\u001b[0;32m----> 1\u001b[0m \u001b[43mupper\u001b[49m(name)\n",
      "\u001b[0;31mNameError\u001b[0m: name 'upper' is not defined"
     ]
    }
   ],
   "source": [
    "upper(name)"
   ]
  },
  {
   "cell_type": "code",
   "execution_count": 6,
   "metadata": {},
   "outputs": [
    {
     "ename": "AttributeError",
     "evalue": "'str' object has no attribute 'print'",
     "output_type": "error",
     "traceback": [
      "\u001b[0;31m---------------------------------------------------------------------------\u001b[0m",
      "\u001b[0;31mAttributeError\u001b[0m                            Traceback (most recent call last)",
      "Cell \u001b[0;32mIn[6], line 1\u001b[0m\n\u001b[0;32m----> 1\u001b[0m \u001b[43mname\u001b[49m\u001b[38;5;241;43m.\u001b[39;49m\u001b[43mprint\u001b[49m()\n",
      "\u001b[0;31mAttributeError\u001b[0m: 'str' object has no attribute 'print'"
     ]
    }
   ],
   "source": [
    "name.print()"
   ]
  },
  {
   "cell_type": "code",
   "execution_count": 7,
   "metadata": {},
   "outputs": [
    {
     "data": {
      "text/plain": [
       "'mr. tucker'"
      ]
     },
     "execution_count": 7,
     "metadata": {},
     "output_type": "execute_result"
    }
   ],
   "source": [
    "name.lower()"
   ]
  },
  {
   "cell_type": "code",
   "execution_count": 8,
   "metadata": {},
   "outputs": [],
   "source": [
    "stupid_str = \"       wefwe        \\n\\n\""
   ]
  },
  {
   "cell_type": "code",
   "execution_count": 9,
   "metadata": {},
   "outputs": [
    {
     "name": "stdout",
     "output_type": "stream",
     "text": [
      "       wefwe        \n",
      "\n",
      "\n"
     ]
    }
   ],
   "source": [
    "print(stupid_str)"
   ]
  },
  {
   "cell_type": "code",
   "execution_count": 10,
   "metadata": {},
   "outputs": [
    {
     "data": {
      "text/plain": [
       "'wefwe'"
      ]
     },
     "execution_count": 10,
     "metadata": {},
     "output_type": "execute_result"
    }
   ],
   "source": [
    "stupid_str.strip()"
   ]
  },
  {
   "cell_type": "code",
   "execution_count": 11,
   "metadata": {},
   "outputs": [],
   "source": [
    "roster = \"a, b, c, d, e, f, g, h, i\""
   ]
  },
  {
   "cell_type": "code",
   "execution_count": 12,
   "metadata": {},
   "outputs": [
    {
     "data": {
      "text/plain": [
       "['a', 'b', 'c', 'd', 'e', 'f', 'g', 'h', 'i']"
      ]
     },
     "execution_count": 12,
     "metadata": {},
     "output_type": "execute_result"
    }
   ],
   "source": [
    "roster.split(\", \")"
   ]
  },
  {
   "cell_type": "code",
   "execution_count": 13,
   "metadata": {},
   "outputs": [
    {
     "data": {
      "text/plain": [
       "'a, b, c, d, e, f, g, h, i'"
      ]
     },
     "execution_count": 13,
     "metadata": {},
     "output_type": "execute_result"
    }
   ],
   "source": [
    "roster"
   ]
  },
  {
   "cell_type": "code",
   "execution_count": 15,
   "metadata": {},
   "outputs": [
    {
     "name": "stdout",
     "output_type": "stream",
     "text": [
      "a\n",
      "b\n",
      "c\n",
      "d\n",
      "e\n",
      "f\n",
      "g\n",
      "h\n",
      "i\n"
     ]
    }
   ],
   "source": [
    "for name in roster.split(\", \"):\n",
    "    print(name)"
   ]
  },
  {
   "cell_type": "code",
   "execution_count": 45,
   "metadata": {},
   "outputs": [],
   "source": [
    "md = \"\"\"\n",
    "Call me Ishmael. Some years ago—never mind how long precisely—having\n",
    "little or no money in my purse, and nothing particular to interest me\n",
    "on shore, I thought I would sail about a little and see the watery part\n",
    "of the world. It is a way I have of driving off the spleen and\n",
    "regulating the circulation. Whenever I find myself growing grim about\n",
    "the mouth; whenever it is a damp, drizzly November in my soul; whenever\n",
    "I find myself involuntarily pausing before coffin warehouses, and\n",
    "bringing up the rear of every funeral I meet; and especially whenever\n",
    "my hypos get such an upper hand of me, that it requires a strong moral\n",
    "principle to prevent me from deliberately stepping into the street, and\n",
    "methodically knocking people’s hats off—then, I account it high time to\n",
    "get to sea as soon as I can. This is my substitute for pistol and ball.\n",
    "With a philosophical flourish Cato throws himself upon his sword; I\n",
    "quietly take to the ship. There is nothing surprising in this. If they\n",
    "but knew it, almost all men in their degree, some time or other,\n",
    "cherish very nearly the same feelings towards the ocean with me.\n",
    "\n",
    "There now is your insular city of the Manhattoes, belted round by\n",
    "wharves as Indian isles by coral reefs—commerce surrounds it with her\n",
    "surf. Right and left, the streets take you waterward. Its extreme\n",
    "downtown is the battery, where that noble mole is washed by waves, and\n",
    "cooled by breezes, which a few hours previous were out of sight of\n",
    "land. Look at the crowds of water-gazers there.\n",
    "\n",
    "Circumambulate the city of a dreamy Sabbath afternoon. Go from Corlears\n",
    "Hook to Coenties Slip, and from thence, by Whitehall, northward. What\n",
    "do you see?—Posted like silent sentinels all around the town, stand\n",
    "thousands upon thousands of mortal men fixed in ocean reveries. Some\n",
    "leaning against the spiles; some seated upon the pier-heads; some\n",
    "looking over the bulwarks of ships from China; some high aloft in the\n",
    "rigging, as if striving to get a still better seaward peep. But these\n",
    "are all landsmen; of week days pent up in lath and plaster—tied to\n",
    "counters, nailed to benches, clinched to desks. How then is this? Are\n",
    "the green fields gone? What do they here?\n",
    "\n",
    "But look! here come more crowds, pacing straight for the water, and\n",
    "seemingly bound for a dive. Strange! Nothing will content them but the\n",
    "extremest limit of the land; loitering under the shady lee of yonder\n",
    "warehouses will not suffice. No. They must get just as nigh the water\n",
    "as they possibly can without falling in. And there they stand—miles of\n",
    "them—leagues. Inlanders all, they come from lanes and alleys, streets\n",
    "and avenues—north, east, south, and west. Yet here they all unite. Tell\n",
    "me, does the magnetic virtue of the needles of the compasses of all\n",
    "those ships attract them thither?\n",
    "\n",
    "Once more. Say you are in the country; in some high land of lakes. Take\n",
    "almost any path you please, and ten to one it carries you down in a\n",
    "dale, and leaves you there by a pool in the stream. There is magic in\n",
    "it. Let the most absent-minded of men be plunged in his deepest\n",
    "reveries—stand that man on his legs, set his feet a-going, and he will\n",
    "infallibly lead you to water, if water there be in all that region.\n",
    "Should you ever be athirst in the great American desert, try this\n",
    "experiment, if your caravan happen to be supplied with a metaphysical\n",
    "professor. Yes, as every one knows, meditation and water are wedded for\n",
    "ever.\n",
    "\"\"\""
   ]
  },
  {
   "cell_type": "code",
   "execution_count": 46,
   "metadata": {},
   "outputs": [],
   "source": [
    "x = sorted(md.strip().split(), key=str.casefold)"
   ]
  },
  {
   "cell_type": "code",
   "execution_count": 47,
   "metadata": {},
   "outputs": [
    {
     "name": "stdout",
     "output_type": "stream",
     "text": [
      "['a', 'a', 'a', 'a', 'a', 'a', 'a', 'a', 'a', 'a', 'a', 'a', 'a-going,', 'about', 'about', 'absent-minded', 'account', 'afternoon.', 'against', 'ago—never', 'all', 'all', 'all', 'all', 'all', 'all', 'all,', 'alleys,', 'almost', 'almost', 'aloft', 'American', 'an', 'and', 'and', 'and', 'and', 'and', 'and', 'and', 'and', 'and', 'and', 'and', 'and', 'And', 'and', 'and', 'and', 'and', 'and', 'and', 'and', 'any', 'are', 'Are', 'are', 'are', 'around', 'as', 'as', 'as', 'as', 'as', 'as', 'as', 'at', 'athirst', 'attract', 'avenues—north,', 'ball.', 'battery,', 'be', 'be', 'be', 'be', 'before', 'belted', 'benches,', 'better', 'bound', 'breezes,', 'bringing', 'bulwarks', 'but', 'But', 'But', 'but', 'by', 'by', 'by', 'by', 'by', 'by', 'Call', 'can', 'can.', 'caravan', 'carries', 'Cato', 'cherish', 'China;', 'circulation.', 'Circumambulate', 'city', 'city', 'clinched', 'Coenties', 'coffin', 'come', 'come', 'compasses', 'content', 'cooled', 'coral', 'Corlears', 'counters,', 'country;', 'crowds', 'crowds,', 'dale,', 'damp,', 'days', 'deepest', 'degree,', 'deliberately', 'desert,', 'desks.', 'dive.', 'do', 'do', 'does', 'down', 'downtown', 'dreamy', 'driving', 'drizzly', 'east,', 'especially', 'ever', 'ever.', 'every', 'every', 'experiment,', 'extreme', 'extremest', 'falling', 'feelings', 'feet', 'few', 'fields', 'find', 'find', 'fixed', 'flourish', 'for', 'for', 'for', 'for', 'from', 'from', 'from', 'from', 'from', 'funeral', 'get', 'get', 'get', 'get', 'Go', 'gone?', 'great', 'green', 'grim', 'growing', 'hand', 'happen', 'hats', 'have', 'he', 'her', 'here', 'here', 'here?', 'high', 'high', 'high', 'himself', 'his', 'his', 'his', 'his', 'Hook', 'hours', 'how', 'How', 'hypos', 'I', 'I', 'I', 'I', 'I', 'I', 'I', 'I', 'I', 'If', 'if', 'if', 'if', 'in', 'in', 'in', 'in', 'in', 'in', 'in', 'in', 'in', 'in', 'in', 'in', 'in', 'in', 'in', 'in.', 'Indian', 'infallibly', 'Inlanders', 'insular', 'interest', 'into', 'involuntarily', 'is', 'is', 'is', 'is', 'is', 'is', 'is', 'is', 'is', 'Ishmael.', 'isles', 'It', 'it', 'it', 'it', 'it', 'it', 'it,', 'it.', 'Its', 'just', 'knew', 'knocking', 'knows,', 'lakes.', 'land', 'land.', 'land;', 'landsmen;', 'lanes', 'lath', 'lead', 'leaning', 'leaves', 'lee', 'left,', 'legs,', 'Let', 'like', 'limit', 'little', 'little', 'loitering', 'long', 'Look', 'look!', 'looking', 'magic', 'magnetic', 'man', 'Manhattoes,', 'me', 'me', 'me', 'me,', 'me,', 'me.', 'meditation', 'meet;', 'men', 'men', 'men', 'metaphysical', 'methodically', 'mind', 'mole', 'money', 'moral', 'more', 'more.', 'mortal', 'most', 'mouth;', 'must', 'my', 'my', 'my', 'my', 'myself', 'myself', 'nailed', 'nearly', 'needles', 'nigh', 'no', 'No.', 'noble', 'northward.', 'not', 'nothing', 'nothing', 'Nothing', 'November', 'now', 'ocean', 'ocean', 'of', 'of', 'of', 'of', 'of', 'of', 'of', 'of', 'of', 'of', 'of', 'of', 'of', 'of', 'of', 'of', 'of', 'of', 'of', 'of', 'off', 'off—then,', 'on', 'on', 'Once', 'one', 'one', 'or', 'or', 'other,', 'out', 'over', 'pacing', 'part', 'particular', 'path', 'pausing', 'peep.', 'pent', 'people’s', 'philosophical', 'pier-heads;', 'pistol', 'plaster—tied', 'please,', 'plunged', 'pool', 'possibly', 'precisely—having', 'prevent', 'previous', 'principle', 'professor.', 'purse,', 'quietly', 'rear', 'reefs—commerce', 'region.', 'regulating', 'requires', 'reveries.', 'reveries—stand', 'rigging,', 'Right', 'round', 'Sabbath', 'sail', 'same', 'Say', 'sea', 'seated', 'seaward', 'see', 'see?—Posted', 'seemingly', 'sentinels', 'set', 'shady', 'ship.', 'ships', 'ships', 'shore,', 'Should', 'sight', 'silent', 'Slip,', 'Some', 'some', 'Some', 'some', 'some', 'some', 'some', 'soon', 'soul;', 'south,', 'spiles;', 'spleen', 'stand', 'stand—miles', 'stepping', 'still', 'straight', 'Strange!', 'stream.', 'street,', 'streets', 'streets', 'striving', 'strong', 'substitute', 'such', 'suffice.', 'supplied', 'surf.', 'surprising', 'surrounds', 'sword;', 'take', 'take', 'Take', 'Tell', 'ten', 'that', 'that', 'that', 'that', 'the', 'the', 'the', 'the', 'the', 'the', 'the', 'the', 'the', 'the', 'the', 'the', 'the', 'the', 'the', 'the', 'the', 'the', 'the', 'the', 'the', 'the', 'the', 'the', 'the', 'the', 'the', 'the', 'the', 'the', 'the', 'the', 'the', 'their', 'them', 'them', 'them—leagues.', 'then', 'thence,', 'There', 'There', 'there', 'there', 'There', 'there', 'there.', 'these', 'they', 'they', 'They', 'they', 'they', 'they', 'they', 'This', 'this', 'this.', 'this?', 'thither?', 'those', 'thought', 'thousands', 'thousands', 'throws', 'time', 'time', 'to', 'to', 'to', 'to', 'to', 'to', 'to', 'to', 'to', 'to', 'to', 'to', 'to', 'towards', 'town,', 'try', 'under', 'unite.', 'up', 'up', 'upon', 'upon', 'upon', 'upper', 'very', 'virtue', 'warehouses', 'warehouses,', 'washed', 'water', 'water', 'water', 'water,', 'water,', 'water-gazers', 'waterward.', 'watery', 'waves,', 'way', 'wedded', 'week', 'were', 'west.', 'wharves', 'What', 'What', 'Whenever', 'whenever', 'whenever', 'whenever', 'where', 'which', 'Whitehall,', 'will', 'will', 'will', 'With', 'with', 'with', 'with', 'without', 'world.', 'would', 'years', 'Yes,', 'Yet', 'yonder', 'you', 'you', 'you', 'you', 'you', 'you', 'you', 'you', 'your', 'your']\n"
     ]
    }
   ],
   "source": [
    "print(x)"
   ]
  },
  {
   "cell_type": "code",
   "execution_count": 27,
   "metadata": {},
   "outputs": [
    {
     "data": {
      "text/plain": [
       "(65, 97)"
      ]
     },
     "execution_count": 27,
     "metadata": {},
     "output_type": "execute_result"
    }
   ],
   "source": [
    "ord(\"A\"), ord(\"a\")"
   ]
  },
  {
   "cell_type": "code",
   "execution_count": 34,
   "metadata": {},
   "outputs": [
    {
     "data": {
      "text/plain": [
       "'\\nCall me Ishmael. Some years ago—never mind how long precisely—having\\nlittle or no money in my purse, and nothing particular to interest me\\non shore, I thought I would sail about a little and see the watery part\\nof the world. It is a way I have of driving off the spleen and\\nregulating the circulation. Whenever I find myself growing grim about\\nthe mouth; whenever it is a damp, drizzly November in my soul; whenever\\nI find myself involuntarily pausing before coffin warehouses, and\\nbringing up the rear of every funeral I meet; and especially whenever\\nmy hypos get such an upper hand of me, that it requires a strong moral\\nprinciple to prevent me from deliberately stepping into the street, and\\nmethodically knocking people’s hats off—then, I account it high time to\\nget to sea as soon as I can. This is my substitute for pistol and ball.\\nWith a philosophical flourish Cato throws himself upon his sword; I\\nquietly take to the ship. There is nothing surprising in this. If they\\nbut knew it, almost all men in their degree, some time or other,\\ncherish very nearly the same feelings towards the ocean with me.\\n\\nThere now is your insular city of the Manhattoes, belted round by\\nwharves as Indian isles by coral reefs—commerce surrounds it with her\\nsurf. Right and left, the streets take you waterward. Its extreme\\ndowntown is the battery, where that noble mole is washed by waves, and\\ncooled by breezes, which a few hours previous were out of sight of\\nland. Look at the crowds of water-gazers there.\\n\\nCircumambulate the city of a dreamy Sabbath afternoon. Go from Corlears\\nHook to Coenties Slip, and from thence, by Whitehall, northward. What\\ndo you see?—Posted like silent sentinels all around the town, stand\\nthousands upon thousands of mortal men fixed in ocean reveries. Some\\nleaning against the spiles; some seated upon the pier-heads; some\\nlooking over the bulwarks of ships from China; some high aloft in the\\nrigging, as if striving to get a still better seaward peep. But these\\nare all landsmen; of week days pent up in lath and plaster—tied to\\ncounters, nailed to benches, clinched to desks. How then is this? Are\\nthe green fields gone? What do they here?\\n\\nBut look! here come more crowds, pacing straight for the water, and\\nseemingly bound for a dive. Strange! Nothing will content them but the\\nextremest limit of the land; loitering under the shady lee of yonder\\nwarehouses will not suffice. No. They must get just as nigh the water\\nas they possibly can without falling in. And there they stand—miles of\\nthem—leagues. Inlanders all, they come from lanes and alleys, streets\\nand avenues—north, east, south, and west. Yet here they all unite. Tell\\nme, does the magnetic virtue of the needles of the compasses of all\\nthose ships attract them thither?\\n\\nOnce more. Say you are in the country; in some high land of lakes. Take\\nalmost any path you please, and ten to one it carries you down in a\\ndale, and leaves you there by a pool in the stream. There is magic in\\nit. Let the most absent-minded of men be plunged in his deepest\\nreveries—stand that man on his legs, set his feet a-going, and he will\\ninfallibly lead you to water, if water there be in all that region.\\nShould you ever be athirst in the great American desert, try this\\nexperiment, if your caravan happen to be supplied with a metaphysical\\nprofessor. Yes, as every one knows, meditation and water are wedded for\\never.\\n'"
      ]
     },
     "execution_count": 34,
     "metadata": {},
     "output_type": "execute_result"
    }
   ],
   "source": []
  },
  {
   "cell_type": "code",
   "execution_count": 41,
   "metadata": {},
   "outputs": [],
   "source": [
    "name = \"Mr. TuckQHWGKJBFDQWer\""
   ]
  },
  {
   "cell_type": "code",
   "execution_count": 42,
   "metadata": {},
   "outputs": [
    {
     "data": {
      "text/plain": [
       "'mr. tuckqhwgkjbfdqwer'"
      ]
     },
     "execution_count": 42,
     "metadata": {},
     "output_type": "execute_result"
    }
   ],
   "source": [
    "name.casefold()"
   ]
  },
  {
   "cell_type": "code",
   "execution_count": 48,
   "metadata": {},
   "outputs": [],
   "source": [
    "z = \"        Hello\\n\""
   ]
  },
  {
   "cell_type": "code",
   "execution_count": 49,
   "metadata": {},
   "outputs": [
    {
     "data": {
      "text/plain": [
       "'Hello\\n'"
      ]
     },
     "execution_count": 49,
     "metadata": {},
     "output_type": "execute_result"
    }
   ],
   "source": [
    "z.lstrip()"
   ]
  },
  {
   "cell_type": "code",
   "execution_count": 50,
   "metadata": {},
   "outputs": [],
   "source": [
    "z = \"Hello\""
   ]
  },
  {
   "cell_type": "code",
   "execution_count": 54,
   "metadata": {},
   "outputs": [],
   "source": [
    "z = z.replace(\"ll\", \"before\")"
   ]
  },
  {
   "cell_type": "code",
   "execution_count": 55,
   "metadata": {},
   "outputs": [
    {
     "name": "stdout",
     "output_type": "stream",
     "text": [
      "Hebeforeo\n"
     ]
    }
   ],
   "source": [
    "print(z)"
   ]
  },
  {
   "cell_type": "code",
   "execution_count": null,
   "metadata": {},
   "outputs": [],
   "source": []
  }
 ],
 "metadata": {
  "kernelspec": {
   "display_name": "Python 3",
   "language": "python",
   "name": "python3"
  },
  "language_info": {
   "codemirror_mode": {
    "name": "ipython",
    "version": 3
   },
   "file_extension": ".py",
   "mimetype": "text/x-python",
   "name": "python",
   "nbconvert_exporter": "python",
   "pygments_lexer": "ipython3",
   "version": "3.11.4"
  }
 },
 "nbformat": 4,
 "nbformat_minor": 2
}
