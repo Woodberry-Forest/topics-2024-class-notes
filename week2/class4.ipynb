{
 "cells": [
  {
   "cell_type": "markdown",
   "metadata": {},
   "source": [
    "# Class 4"
   ]
  },
  {
   "cell_type": "markdown",
   "metadata": {},
   "source": [
    "Review"
   ]
  },
  {
   "cell_type": "markdown",
   "metadata": {},
   "source": [
    "# Data Types"
   ]
  },
  {
   "cell_type": "code",
   "execution_count": 1,
   "metadata": {},
   "outputs": [],
   "source": [
    "# Integer\n",
    "x = 5\n",
    "\n",
    "# string\n",
    "s = \"Mr. Tucker\"\n",
    "\n",
    "# float\n",
    "f = 5.5\n",
    "\n",
    "# boolean\n",
    "b = True"
   ]
  },
  {
   "cell_type": "markdown",
   "metadata": {},
   "source": [
    "# Conditionals"
   ]
  },
  {
   "cell_type": "markdown",
   "metadata": {},
   "source": [
    "```python\n",
    "if <condition/boolean expression>:\n",
    "    <do something>\n",
    "elif <condition/boolean expression>:\n",
    "    <do something>\n",
    "else:\n",
    "    <do something>\n",
    "```"
   ]
  },
  {
   "cell_type": "markdown",
   "metadata": {},
   "source": [
    "#### Boolean Expressions\n",
    "\n",
    "Boolean Operators\n",
    "```python\n",
    "and, or, not\n",
    "```\n",
    "\n",
    "Comparison Operators\n",
    "```python\n",
    "==\n",
    "!=\n",
    ">\n",
    ">=\n",
    "<\n",
    "<=\n",
    "is\n",
    "```"
   ]
  },
  {
   "cell_type": "code",
   "execution_count": 2,
   "metadata": {},
   "outputs": [
    {
     "name": "stdout",
     "output_type": "stream",
     "text": [
      "True False\n"
     ]
    }
   ],
   "source": [
    "a = [1, 2, 3]\n",
    "b = [1, 2, 3]\n",
    "\n",
    "print(a==b, a is b)"
   ]
  },
  {
   "cell_type": "code",
   "execution_count": 3,
   "metadata": {},
   "outputs": [
    {
     "name": "stdout",
     "output_type": "stream",
     "text": [
      "True True\n"
     ]
    }
   ],
   "source": [
    "a = [1, 2, 3]\n",
    "b = a\n",
    "\n",
    "print(a==b, a is b)"
   ]
  },
  {
   "cell_type": "code",
   "execution_count": 4,
   "metadata": {},
   "outputs": [
    {
     "data": {
      "text/plain": [
       "True"
      ]
     },
     "execution_count": 4,
     "metadata": {},
     "output_type": "execute_result"
    }
   ],
   "source": [
    "a = 5\n",
    "b = 5\n",
    "\n",
    "a is b"
   ]
  },
  {
   "cell_type": "markdown",
   "metadata": {
    "vscode": {
     "languageId": "plaintext"
    }
   },
   "source": [
    "# Loops"
   ]
  },
  {
   "cell_type": "markdown",
   "metadata": {},
   "source": [
    "- For Loops (definite loop)\n",
    "    - index based loops\n",
    "    - element based loops\n",
    "    - `enumerate()`\n",
    "- While loops (indefinite)\n",
    "    - run while a condition is true"
   ]
  },
  {
   "cell_type": "code",
   "execution_count": 13,
   "metadata": {},
   "outputs": [
    {
     "name": "stdout",
     "output_type": "stream",
     "text": [
      "Ben\n",
      "Cody\n",
      "Mr. Tucker\n",
      "Liam\n",
      "\n",
      "Ben\n",
      "Cody\n",
      "Mr. Tucker\n",
      "Liam\n",
      "\n",
      "Ben\n",
      "Cody\n",
      "Mr. Tucker\n",
      "Liam\n"
     ]
    }
   ],
   "source": [
    "names = [\"Ben\", \"Cody\", \"Mr. Tucker\", \"Liam\"]\n",
    "\n",
    "# Index based loop\n",
    "# ALLOWS YOU TO CHANGE VALUES IN NAMES DIRECTLY\n",
    "for i in range(len(names)):\n",
    "    print(names[i])\n",
    "\n",
    "print()\n",
    "# Element based loop \n",
    "# PASSES BY COPY FOR PRIMITIVE TYPES; CAN'T MODIFY NAMES\n",
    "for name in names:\n",
    "    print(name)\n",
    "\n",
    "\n",
    "print()\n",
    "# While loops\n",
    "c = 0\n",
    "while c < len(names):\n",
    "    print(names[c])\n",
    "    c += 1  # Iterating the counter variable\n"
   ]
  },
  {
   "cell_type": "markdown",
   "metadata": {},
   "source": [
    "# Data Structures\n",
    "\n",
    "- List\n",
    "- Dictionary\n",
    "- Tuple\n",
    "- Set"
   ]
  },
  {
   "cell_type": "code",
   "execution_count": 22,
   "metadata": {},
   "outputs": [],
   "source": [
    "l = [1, 2, 3, 4, \"Mr. Tucker\", [1, 2, 3]]\n",
    "d = {\"Mr. Tucker\": \"stinks\", 4: 9, 2.3: 10, True: False, (1, 2): 6} # KEYS HAVE TO BE IMMUTABLE\n",
    "t = (1, 2, 3)\n",
    "s = {1, 1, 2, 3, 4} # NO DUPLICATES"
   ]
  },
  {
   "cell_type": "code",
   "execution_count": 18,
   "metadata": {},
   "outputs": [],
   "source": [
    "roster = []\n",
    "\n",
    "name = input(\"Give me a name, type quit to quit.\")\n",
    "while name.lower() != \"quit\":\n",
    "    roster.append(name)\n",
    "    name = input(\"Give me a name, type quit to quit.\")\n",
    "    "
   ]
  },
  {
   "cell_type": "markdown",
   "metadata": {},
   "source": [
    "# Functions"
   ]
  },
  {
   "cell_type": "code",
   "execution_count": 23,
   "metadata": {},
   "outputs": [
    {
     "data": {
      "text/plain": [
       "8"
      ]
     },
     "execution_count": 23,
     "metadata": {},
     "output_type": "execute_result"
    }
   ],
   "source": [
    "def stupid(a, y):\n",
    "    return a**y\n",
    "\n",
    "stupid(2, 3)"
   ]
  },
  {
   "cell_type": "code",
   "execution_count": 24,
   "metadata": {},
   "outputs": [
    {
     "data": {
      "text/plain": [
       "6"
      ]
     },
     "execution_count": 24,
     "metadata": {},
     "output_type": "execute_result"
    }
   ],
   "source": [
    "def func(a, b, c):\n",
    "    return a*b\n",
    "\n",
    "func(2, 3, 4)"
   ]
  },
  {
   "cell_type": "code",
   "execution_count": null,
   "metadata": {},
   "outputs": [],
   "source": []
  }
 ],
 "metadata": {
  "kernelspec": {
   "display_name": "Python 3",
   "language": "python",
   "name": "python3"
  },
  "language_info": {
   "codemirror_mode": {
    "name": "ipython",
    "version": 3
   },
   "file_extension": ".py",
   "mimetype": "text/x-python",
   "name": "python",
   "nbconvert_exporter": "python",
   "pygments_lexer": "ipython3",
   "version": "3.11.4"
  }
 },
 "nbformat": 4,
 "nbformat_minor": 2
}
