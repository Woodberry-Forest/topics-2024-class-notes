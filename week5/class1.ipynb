{
 "cells": [
  {
   "cell_type": "markdown",
   "metadata": {},
   "source": [
    "# Class 1\n",
    "\n",
    "Introduction to Classes in Python\n",
    "\n",
    "## What is a class?\n",
    "\n",
    "A class is a blueprint for creating objects (a particular data structure), providing initial values for state (member variables or attributes), and implementations of behavior (member functions or methods).\n",
    "\n",
    "## Why use classes?\n",
    "\n",
    "Classes are used to create new objects that can be used to model real-world objects. They allow you to create objects that have attributes and methods that can be used to interact with the object."
   ]
  },
  {
   "cell_type": "code",
   "execution_count": 45,
   "metadata": {},
   "outputs": [],
   "source": [
    "class Card():\n",
    "    # Constructor\n",
    "    def __init__(self, suit, value):\n",
    "        self.suit = suit\n",
    "        self.value = value\n",
    "    # Overriding internal string method\n",
    "    def __str__(self):\n",
    "        return f\"{self.value} of {self.suit}s\"\n",
    "    \n",
    "    # Overriding internal equality method\n",
    "    def __eq__(self, other):\n",
    "        return self.value == other.value and self.suit == other.suit\n",
    "    \n",
    "    # Accessors\n",
    "    def get_suit(self):\n",
    "        return self.suit\n",
    "    \n",
    "    def get_value(self):\n",
    "        return self.value\n",
    "    \n",
    "    # Mutators\n",
    "    def set_suit(self, new_suit):\n",
    "        self.suit = new_suit"
   ]
  },
  {
   "cell_type": "code",
   "execution_count": 57,
   "metadata": {},
   "outputs": [],
   "source": [
    "from random import shuffle\n",
    "\n",
    "class Deck():\n",
    "\n",
    "    # Constructor\n",
    "    def __init__(self):\n",
    "        suits = [\"Spade\", \"Club\", \"Heart\", \"Diamond\"]\n",
    "        values = [\"Ace\", 2, 3, 4, 5, 6, 7, 8, 9, 10, \"Jack\", \"Queen\", \"King\"]\n",
    "        self.deck = []\n",
    "\n",
    "        for suit in suits:\n",
    "            for value in values:\n",
    "                card = Card(suit, value)\n",
    "                self.deck.append(card)\n",
    "\n",
    "    # Override the string representation\n",
    "    def __str__(self):\n",
    "        return \"\\n\".join([str(card) for card in self.deck])\n",
    "\n",
    "    # Shuffle method\n",
    "    def shuffle_deck(self):\n",
    "        shuffle(self.deck)\n",
    "\n",
    "    # Deal method\n",
    "    def deal(self):\n",
    "        pass"
   ]
  },
  {
   "cell_type": "code",
   "execution_count": 59,
   "metadata": {},
   "outputs": [
    {
     "name": "stdout",
     "output_type": "stream",
     "text": [
      "10 of Clubs\n",
      "5 of Clubs\n",
      "8 of Spades\n",
      "Jack of Clubs\n",
      "6 of Diamonds\n",
      "9 of Spades\n",
      "2 of Clubs\n",
      "10 of Spades\n",
      "Queen of Hearts\n",
      "5 of Hearts\n",
      "9 of Diamonds\n",
      "3 of Clubs\n",
      "King of Spades\n",
      "3 of Diamonds\n",
      "Queen of Clubs\n",
      "Jack of Spades\n",
      "2 of Hearts\n",
      "Queen of Spades\n",
      "Ace of Clubs\n",
      "Queen of Diamonds\n",
      "7 of Diamonds\n",
      "9 of Hearts\n",
      "Ace of Spades\n",
      "3 of Hearts\n",
      "2 of Diamonds\n",
      "4 of Diamonds\n",
      "4 of Hearts\n",
      "4 of Clubs\n",
      "3 of Spades\n",
      "10 of Hearts\n",
      "King of Hearts\n",
      "6 of Hearts\n",
      "King of Clubs\n",
      "King of Diamonds\n",
      "4 of Spades\n",
      "8 of Clubs\n",
      "5 of Diamonds\n",
      "7 of Hearts\n",
      "Ace of Diamonds\n",
      "8 of Diamonds\n",
      "Jack of Diamonds\n",
      "5 of Spades\n",
      "Ace of Hearts\n",
      "10 of Diamonds\n",
      "9 of Clubs\n",
      "8 of Hearts\n",
      "7 of Spades\n",
      "6 of Clubs\n",
      "2 of Spades\n",
      "Jack of Hearts\n",
      "6 of Spades\n",
      "7 of Clubs\n"
     ]
    }
   ],
   "source": [
    "d = Deck()\n",
    "# print(d)\n",
    "d.shuffle_deck()\n",
    "print(d)"
   ]
  },
  {
   "cell_type": "code",
   "execution_count": null,
   "metadata": {},
   "outputs": [],
   "source": []
  }
 ],
 "metadata": {
  "kernelspec": {
   "display_name": "Python 3",
   "language": "python",
   "name": "python3"
  },
  "language_info": {
   "codemirror_mode": {
    "name": "ipython",
    "version": 3
   },
   "file_extension": ".py",
   "mimetype": "text/x-python",
   "name": "python",
   "nbconvert_exporter": "python",
   "pygments_lexer": "ipython3",
   "version": "3.11.4"
  }
 },
 "nbformat": 4,
 "nbformat_minor": 2
}
