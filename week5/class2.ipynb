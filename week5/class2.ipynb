{
 "cells": [
  {
   "cell_type": "markdown",
   "metadata": {},
   "source": [
    "# Class 2"
   ]
  },
  {
   "cell_type": "code",
   "execution_count": 13,
   "metadata": {},
   "outputs": [],
   "source": [
    "class Person():\n",
    "    SPECIES = \"Homo Sapiens\"\n",
    "\n",
    "    # Constructor\n",
    "    def __init__(self, name, age, height, hair_color):\n",
    "        self.name = name\n",
    "        self.age = age\n",
    "        self.height = height\n",
    "        self.hair_color = hair_color\n",
    "    # Getters/Accessors\n",
    "\n",
    "    # Setters/Mutators\n",
    "\n",
    "    # Overriding Methods\n",
    "    def __str__(self):\n",
    "        return \"Person named: \" + self.name\n",
    "\n",
    "    # Additional Functionality\n",
    "    def dye_hair(self, new_color):\n",
    "        self.hair_color = new_color\n",
    "\n",
    "    def birthday(self):\n",
    "        self.age += 1\n",
    "\n",
    "    def growth_spurt(self):\n",
    "        self.height += 2\n",
    "\n",
    "    "
   ]
  },
  {
   "cell_type": "code",
   "execution_count": 21,
   "metadata": {},
   "outputs": [],
   "source": [
    "class Student(Person):\n",
    "\n",
    "    # Constructor\n",
    "    def __init__(self, name, age, height, hair_color, GPA, form, advisor):\n",
    "        super().__init__(name, age, height, hair_color)\n",
    "\n",
    "        self.GPA = GPA\n",
    "        self.form = form\n",
    "        self.advisor = advisor\n",
    "        self.courses = []\n",
    "\n",
    "    def add_course(self, course_name):\n",
    "        self.courses.append(course_name)\n",
    "\n",
    "    def drop_course(self, course_name):\n",
    "        if course_name in self.courses:\n",
    "            self.courses.remove(course_name)\n",
    "            return True\n",
    "        else:\n",
    "            print(\"Cannot drop course\")\n",
    "            return False\n",
    "        \n",
    "    # Getters/Accessors\n",
    "\n",
    "    # Setters/Mutators\n",
    "    def set_gpa(self, new_gpa):\n",
    "        \"\"\"Sets the gpa of the student to the new gpa\n",
    "\n",
    "        Args:\n",
    "            new_gpa (float): new gpa\n",
    "\n",
    "        Returns:\n",
    "            bool: successful change\n",
    "        \"\"\"\n",
    "        if type(new_gpa) == float and float >= 0 and float <= 4:\n",
    "            self.GPA = new_gpa\n",
    "            return True\n",
    "        else:\n",
    "            print(\"invalid gpa\")\n",
    "            return False\n",
    "        \n",
    "    def change_advisor(self, new_advisor):\n",
    "        if type(new_advisor) == Teacher:\n",
    "            self.advisor = new_advisor\n",
    "\n",
    "    # Theoretically implement a method which takes a dictionary of course and grades and automatically calculates the GPA\n",
    "\n",
    "\n"
   ]
  },
  {
   "cell_type": "code",
   "execution_count": 20,
   "metadata": {},
   "outputs": [],
   "source": [
    "class Teacher(Person):\n",
    "    \n",
    "\n",
    "    def __init__(self, name, age, height, hair_color, salary, duty_location):\n",
    "        super().__init__(name, age, height, hair_color)\n",
    "\n",
    "        self.salary = salary\n",
    "        self.duty_location = duty_location\n",
    "\n",
    "    def get_a_raise(self, raise_amount):\n",
    "        self.salary += raise_amount\n",
    "\n",
    "    def duty_trade(self, new_loc):\n",
    "        self.duty_location = new_loc"
   ]
  },
  {
   "cell_type": "code",
   "execution_count": 22,
   "metadata": {},
   "outputs": [],
   "source": [
    "t1 = Teacher(\"Mr. Sherrell\", 28, 72, \"black\", 100000, \"Dowd-Finch\")\n",
    "s1 = Student(\"Colin\", 19, 77, \"black\", 4.00, 6, t1)"
   ]
  },
  {
   "cell_type": "code",
   "execution_count": 23,
   "metadata": {},
   "outputs": [
    {
     "data": {
      "text/plain": [
       "'Mr. Sherrell'"
      ]
     },
     "execution_count": 23,
     "metadata": {},
     "output_type": "execute_result"
    }
   ],
   "source": [
    "\n",
    "s1.advisor.name"
   ]
  },
  {
   "cell_type": "code",
   "execution_count": 24,
   "metadata": {},
   "outputs": [
    {
     "data": {
      "text/plain": [
       "'Colin'"
      ]
     },
     "execution_count": 24,
     "metadata": {},
     "output_type": "execute_result"
    }
   ],
   "source": [
    "s1.name"
   ]
  },
  {
   "cell_type": "code",
   "execution_count": 25,
   "metadata": {},
   "outputs": [
    {
     "data": {
      "text/plain": [
       "19"
      ]
     },
     "execution_count": 25,
     "metadata": {},
     "output_type": "execute_result"
    }
   ],
   "source": [
    "s1.age"
   ]
  },
  {
   "cell_type": "code",
   "execution_count": 26,
   "metadata": {},
   "outputs": [],
   "source": [
    "s1.birthday()"
   ]
  },
  {
   "cell_type": "code",
   "execution_count": 27,
   "metadata": {},
   "outputs": [
    {
     "data": {
      "text/plain": [
       "20"
      ]
     },
     "execution_count": 27,
     "metadata": {},
     "output_type": "execute_result"
    }
   ],
   "source": [
    "s1.age"
   ]
  },
  {
   "cell_type": "code",
   "execution_count": 28,
   "metadata": {},
   "outputs": [
    {
     "data": {
      "text/plain": [
       "['Topics in Python']"
      ]
     },
     "execution_count": 28,
     "metadata": {},
     "output_type": "execute_result"
    }
   ],
   "source": [
    "s1.add_course(\"Topics in Python\")\n",
    "s1.courses"
   ]
  },
  {
   "cell_type": "code",
   "execution_count": 29,
   "metadata": {},
   "outputs": [],
   "source": [
    "s1.add_course(\"Electronic Music\")"
   ]
  },
  {
   "cell_type": "code",
   "execution_count": 30,
   "metadata": {},
   "outputs": [
    {
     "data": {
      "text/plain": [
       "['Topics in Python', 'Electronic Music']"
      ]
     },
     "execution_count": 30,
     "metadata": {},
     "output_type": "execute_result"
    }
   ],
   "source": [
    "s1.courses"
   ]
  },
  {
   "cell_type": "code",
   "execution_count": 31,
   "metadata": {},
   "outputs": [
    {
     "data": {
      "text/plain": [
       "True"
      ]
     },
     "execution_count": 31,
     "metadata": {},
     "output_type": "execute_result"
    }
   ],
   "source": [
    "s1.drop_course(\"Topics in Python\")"
   ]
  },
  {
   "cell_type": "code",
   "execution_count": 32,
   "metadata": {},
   "outputs": [
    {
     "data": {
      "text/plain": [
       "['Electronic Music']"
      ]
     },
     "execution_count": 32,
     "metadata": {},
     "output_type": "execute_result"
    }
   ],
   "source": [
    "s1.courses"
   ]
  },
  {
   "cell_type": "code",
   "execution_count": 33,
   "metadata": {},
   "outputs": [],
   "source": [
    "s1.advisor.get_a_raise(50000)"
   ]
  },
  {
   "cell_type": "code",
   "execution_count": 36,
   "metadata": {},
   "outputs": [
    {
     "data": {
      "text/plain": [
       "150000"
      ]
     },
     "execution_count": 36,
     "metadata": {},
     "output_type": "execute_result"
    }
   ],
   "source": [
    "t1.salary"
   ]
  },
  {
   "cell_type": "code",
   "execution_count": 37,
   "metadata": {},
   "outputs": [
    {
     "data": {
      "text/plain": [
       "True"
      ]
     },
     "execution_count": 37,
     "metadata": {},
     "output_type": "execute_result"
    }
   ],
   "source": [
    "t1 is s1.advisor"
   ]
  },
  {
   "cell_type": "code",
   "execution_count": 38,
   "metadata": {},
   "outputs": [
    {
     "data": {
      "text/plain": [
       "'Person named: Mr. Sherrell'"
      ]
     },
     "execution_count": 38,
     "metadata": {},
     "output_type": "execute_result"
    }
   ],
   "source": [
    "str(t1)"
   ]
  },
  {
   "cell_type": "code",
   "execution_count": 39,
   "metadata": {},
   "outputs": [],
   "source": [
    "s1.change_advisor(\"Mr. Bullock\")"
   ]
  },
  {
   "cell_type": "code",
   "execution_count": 41,
   "metadata": {},
   "outputs": [
    {
     "name": "stdout",
     "output_type": "stream",
     "text": [
      "Person named: Mr. Sherrell\n"
     ]
    }
   ],
   "source": [
    "print(s1.advisor)"
   ]
  },
  {
   "cell_type": "code",
   "execution_count": null,
   "metadata": {},
   "outputs": [],
   "source": []
  }
 ],
 "metadata": {
  "kernelspec": {
   "display_name": "Python 3",
   "language": "python",
   "name": "python3"
  },
  "language_info": {
   "codemirror_mode": {
    "name": "ipython",
    "version": 3
   },
   "file_extension": ".py",
   "mimetype": "text/x-python",
   "name": "python",
   "nbconvert_exporter": "python",
   "pygments_lexer": "ipython3",
   "version": "3.11.4"
  }
 },
 "nbformat": 4,
 "nbformat_minor": 2
}
