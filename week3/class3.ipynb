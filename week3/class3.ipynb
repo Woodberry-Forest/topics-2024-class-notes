{
 "cells": [
  {
   "cell_type": "markdown",
   "metadata": {},
   "source": [
    "# Class 3\n",
    "\n",
    "Algorithms"
   ]
  },
  {
   "cell_type": "markdown",
   "metadata": {},
   "source": [
    "Basic algorithms:\n",
    "- Searching\n",
    "- Sorting"
   ]
  },
  {
   "cell_type": "code",
   "execution_count": 1,
   "metadata": {},
   "outputs": [],
   "source": [
    "from random import randint"
   ]
  },
  {
   "cell_type": "code",
   "execution_count": 40,
   "metadata": {},
   "outputs": [],
   "source": [
    "n = 10000000\n",
    "l = [randint(0, n) for i in range(n)]"
   ]
  },
  {
   "cell_type": "markdown",
   "metadata": {},
   "source": [
    "# Linear Search"
   ]
  },
  {
   "cell_type": "code",
   "execution_count": 17,
   "metadata": {},
   "outputs": [],
   "source": [
    "def linear_search(l, target):\n",
    "    idx = -1\n",
    "    c = 0\n",
    "    for i in range(len(l)):\n",
    "        c += 1\n",
    "        if l[i] == target:\n",
    "            idx = i\n",
    "            break\n",
    "    if idx != -1:\n",
    "        c += 1\n",
    "        print(\"%i found at index %i\"%(target, idx))\n",
    "    else:\n",
    "        print(\"%i not found in list.\"%target)\n",
    "\n",
    "    print(\"Number of comparisons:\", c)"
   ]
  },
  {
   "cell_type": "code",
   "execution_count": 20,
   "metadata": {},
   "outputs": [
    {
     "name": "stdout",
     "output_type": "stream",
     "text": [
      "41697 not found in list.\n",
      "Number of comparisons: 100000\n"
     ]
    }
   ],
   "source": [
    "linear_search(l, randint(0, n))"
   ]
  },
  {
   "cell_type": "markdown",
   "metadata": {},
   "source": [
    "# Binary Search"
   ]
  },
  {
   "cell_type": "code",
   "execution_count": 21,
   "metadata": {},
   "outputs": [],
   "source": [
    "l.sort()"
   ]
  },
  {
   "cell_type": "code",
   "execution_count": 41,
   "metadata": {},
   "outputs": [],
   "source": [
    "def binary_search(l, target):\n",
    "    found = False\n",
    "    idx = -1\n",
    "    c = 0\n",
    "\n",
    "    while not found:\n",
    "        c += 1\n",
    "        midpoint = len(l) // 2\n",
    "        \n",
    "        if l[midpoint] == target:\n",
    "            idx = midpoint\n",
    "            found = True\n",
    "            c += 1\n",
    "        elif target < l[midpoint]:\n",
    "            l = l[:midpoint]\n",
    "            c += 1\n",
    "        else:\n",
    "            l = l[midpoint + 1:]\n",
    "            c += 1\n",
    "\n",
    "    c += 1\n",
    "    if found:\n",
    "        print(\"%i found at index %i\"%(target, idx))\n",
    "    else:\n",
    "        print(\"%i not found in list\"%target)\n",
    "\n",
    "\n",
    "    print(\"Number of comparisons:\", c)"
   ]
  },
  {
   "cell_type": "code",
   "execution_count": 45,
   "metadata": {},
   "outputs": [
    {
     "ename": "IndexError",
     "evalue": "list index out of range",
     "output_type": "error",
     "traceback": [
      "\u001b[0;31m---------------------------------------------------------------------------\u001b[0m",
      "\u001b[0;31mIndexError\u001b[0m                                Traceback (most recent call last)",
      "Cell \u001b[0;32mIn[45], line 1\u001b[0m\n\u001b[0;32m----> 1\u001b[0m \u001b[43mbinary_search\u001b[49m\u001b[43m(\u001b[49m\u001b[43ml\u001b[49m\u001b[43m,\u001b[49m\u001b[43m \u001b[49m\u001b[38;5;241;43m100003\u001b[39;49m\u001b[43m)\u001b[49m\n",
      "Cell \u001b[0;32mIn[41], line 10\u001b[0m, in \u001b[0;36mbinary_search\u001b[0;34m(l, target)\u001b[0m\n\u001b[1;32m      7\u001b[0m c \u001b[38;5;241m+\u001b[39m\u001b[38;5;241m=\u001b[39m \u001b[38;5;241m1\u001b[39m\n\u001b[1;32m      8\u001b[0m midpoint \u001b[38;5;241m=\u001b[39m \u001b[38;5;28mlen\u001b[39m(l) \u001b[38;5;241m/\u001b[39m\u001b[38;5;241m/\u001b[39m \u001b[38;5;241m2\u001b[39m\n\u001b[0;32m---> 10\u001b[0m \u001b[38;5;28;01mif\u001b[39;00m \u001b[43ml\u001b[49m\u001b[43m[\u001b[49m\u001b[43mmidpoint\u001b[49m\u001b[43m]\u001b[49m \u001b[38;5;241m==\u001b[39m target:\n\u001b[1;32m     11\u001b[0m     idx \u001b[38;5;241m=\u001b[39m midpoint\n\u001b[1;32m     12\u001b[0m     found \u001b[38;5;241m=\u001b[39m \u001b[38;5;28;01mTrue\u001b[39;00m\n",
      "\u001b[0;31mIndexError\u001b[0m: list index out of range"
     ]
    }
   ],
   "source": [
    "binary_search(l, 100003)"
   ]
  },
  {
   "cell_type": "code",
   "execution_count": null,
   "metadata": {},
   "outputs": [],
   "source": []
  }
 ],
 "metadata": {
  "kernelspec": {
   "display_name": "Python 3",
   "language": "python",
   "name": "python3"
  },
  "language_info": {
   "codemirror_mode": {
    "name": "ipython",
    "version": 3
   },
   "file_extension": ".py",
   "mimetype": "text/x-python",
   "name": "python",
   "nbconvert_exporter": "python",
   "pygments_lexer": "ipython3",
   "version": "3.11.4"
  }
 },
 "nbformat": 4,
 "nbformat_minor": 2
}
